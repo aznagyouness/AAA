{
  "nbformat": 4,
  "nbformat_minor": 0,
  "metadata": {
    "colab": {
      "provenance": [],
      "authorship_tag": "ABX9TyP4BFq0mSBVqeSUBQ3/0f1f",
      "include_colab_link": true
    },
    "kernelspec": {
      "name": "python3",
      "display_name": "Python 3"
    },
    "language_info": {
      "name": "python"
    },
    "accelerator": "GPU"
  },
  "cells": [
    {
      "cell_type": "markdown",
      "metadata": {
        "id": "view-in-github",
        "colab_type": "text"
      },
      "source": [
        "<a href=\"https://colab.research.google.com/github/aznagyouness/AAA/blob/main/Transfer_learning_with_optimization.ipynb\" target=\"_parent\"><img src=\"https://colab.research.google.com/assets/colab-badge.svg\" alt=\"Open In Colab\"/></a>"
      ]
    },
    {
      "cell_type": "code",
      "execution_count": null,
      "metadata": {
        "id": "fOWqHYbfRea6"
      },
      "outputs": [],
      "source": [
        "import matplotlib.pyplot as plt\n",
        "import numpy as np\n",
        "import cv2\n",
        "import os\n",
        "import PIL\n",
        "import tensorflow as tf\n",
        "import tensorflow_hub as hub\n",
        "\n",
        "from tensorflow import keras\n",
        "from tensorflow.keras import layers\n",
        "from tensorflow.keras.models import Sequential"
      ]
    },
    {
      "cell_type": "code",
      "source": [
        "dataset_url = \"https://storage.googleapis.com/download.tensorflow.org/example_images/flower_photos.tgz\"\n",
        "data_dir = tf.keras.utils.get_file('flower_photos', origin=dataset_url,  cache_dir='.', untar=True)\n",
        "# cache_dir indicates where to download data. I specified . which means current directory\n",
        "# untar true will unzip it"
      ],
      "metadata": {
        "id": "IeNNJ-NiRtLx"
      },
      "execution_count": null,
      "outputs": []
    },
    {
      "cell_type": "code",
      "source": [
        "import pathlib\n",
        "data_dir = pathlib.Path(data_dir)\n",
        "data_dir"
      ],
      "metadata": {
        "colab": {
          "base_uri": "https://localhost:8080/"
        },
        "id": "bJj2faH4RxNk",
        "outputId": "2dc05b2c-0d18-4670-a41e-c56355b9134f"
      },
      "execution_count": null,
      "outputs": [
        {
          "output_type": "execute_result",
          "data": {
            "text/plain": [
              "PosixPath('datasets/flower_photos')"
            ]
          },
          "metadata": {},
          "execution_count": 4
        }
      ]
    },
    {
      "cell_type": "code",
      "source": [
        "flowers_images_dict = {\n",
        "    'roses': list(data_dir.glob('roses/*')),\n",
        "    'daisy': list(data_dir.glob('daisy/*')),\n",
        "    'dandelion': list(data_dir.glob('dandelion/*')),\n",
        "    'sunflowers': list(data_dir.glob('sunflowers/*')),\n",
        "    'tulips': list(data_dir.glob('tulips/*')),\n",
        "}"
      ],
      "metadata": {
        "id": "BP3Wh9bXR2dU"
      },
      "execution_count": null,
      "outputs": []
    },
    {
      "cell_type": "code",
      "source": [
        "flowers_labels_dict = {\n",
        "    'roses': 0,\n",
        "    'daisy': 1,\n",
        "    'dandelion': 2,\n",
        "    'sunflowers': 3,\n",
        "    'tulips': 4,\n",
        "}"
      ],
      "metadata": {
        "id": "oLWTOBAZR5Jn"
      },
      "execution_count": null,
      "outputs": []
    },
    {
      "cell_type": "code",
      "source": [
        "X, y = [], []\n",
        "\n",
        "for flower_name, images in flowers_images_dict.items():\n",
        "    for image in images:\n",
        "        img = cv2.imread(str(image))\n",
        "        resized_img = cv2.resize(img,(180,180))\n",
        "        X.append(resized_img)\n",
        "        y.append(flowers_labels_dict[flower_name])"
      ],
      "metadata": {
        "id": "vx4k_X8bR69p"
      },
      "execution_count": null,
      "outputs": []
    },
    {
      "cell_type": "code",
      "source": [
        "X = np.array(X)\n",
        "y = np.array(y)"
      ],
      "metadata": {
        "id": "IsM8WgeFSIEl"
      },
      "execution_count": null,
      "outputs": []
    },
    {
      "cell_type": "code",
      "source": [
        "from sklearn.model_selection import train_test_split\n",
        "X_train, X_test, y_train, y_test = train_test_split(X, y, random_state=0)"
      ],
      "metadata": {
        "id": "318GF8MHSKLb"
      },
      "execution_count": null,
      "outputs": []
    },
    {
      "cell_type": "code",
      "source": [
        "X_train_scaled = X_train / 255\n",
        "X_test_scaled = X_test / 255"
      ],
      "metadata": {
        "id": "UDjwyCyySNHz"
      },
      "execution_count": null,
      "outputs": []
    },
    {
      "cell_type": "code",
      "source": [
        "num_classes = 5\n",
        "\n",
        "model = Sequential([\n",
        "  layers.Conv2D(16, 3, padding='same', activation='relu'),\n",
        "  layers.MaxPooling2D(),\n",
        "  layers.Conv2D(32, 3, padding='same', activation='relu'),\n",
        "  layers.MaxPooling2D(),\n",
        "  layers.Conv2D(64, 3, padding='same', activation='relu'),\n",
        "  layers.MaxPooling2D(),\n",
        "  layers.Flatten(),\n",
        "  layers.Dense(128, activation='relu'),\n",
        "  layers.Dense(num_classes) # gives you a linear equation W*a+b, without softmax(it's from logits).\n",
        "])\n",
        "\n",
        "model.compile(optimizer='adam',\n",
        "              loss=tf.keras.losses.SparseCategoricalCrossentropy(from_logits=True),\n",
        "              metrics=['accuracy'])\n",
        "              \n",
        "model.fit(X_train_scaled, y_train, epochs=30)              "
      ],
      "metadata": {
        "colab": {
          "base_uri": "https://localhost:8080/"
        },
        "id": "rpsQEhlVSSrw",
        "outputId": "06aeb72d-79c8-453e-cf1d-d2a96f5c9049"
      },
      "execution_count": null,
      "outputs": [
        {
          "output_type": "stream",
          "name": "stdout",
          "text": [
            "Epoch 1/30\n",
            "86/86 [==============================] - 11s 25ms/step - loss: 1.3782 - accuracy: 0.4099\n",
            "Epoch 2/30\n",
            "86/86 [==============================] - 2s 22ms/step - loss: 1.0028 - accuracy: 0.5999\n",
            "Epoch 3/30\n",
            "86/86 [==============================] - 2s 22ms/step - loss: 0.8002 - accuracy: 0.6831\n",
            "Epoch 4/30\n",
            "86/86 [==============================] - 2s 24ms/step - loss: 0.5991 - accuracy: 0.7783\n",
            "Epoch 5/30\n",
            "86/86 [==============================] - 2s 22ms/step - loss: 0.3953 - accuracy: 0.8597\n",
            "Epoch 6/30\n",
            "86/86 [==============================] - 2s 22ms/step - loss: 0.2394 - accuracy: 0.9182\n",
            "Epoch 7/30\n",
            "86/86 [==============================] - 2s 22ms/step - loss: 0.1277 - accuracy: 0.9622\n",
            "Epoch 8/30\n",
            "86/86 [==============================] - 2s 23ms/step - loss: 0.0783 - accuracy: 0.9789\n",
            "Epoch 9/30\n",
            "86/86 [==============================] - 2s 22ms/step - loss: 0.0303 - accuracy: 0.9945\n",
            "Epoch 10/30\n",
            "86/86 [==============================] - 2s 22ms/step - loss: 0.0249 - accuracy: 0.9960\n",
            "Epoch 11/30\n",
            "86/86 [==============================] - 2s 22ms/step - loss: 0.0936 - accuracy: 0.9713\n",
            "Epoch 12/30\n",
            "86/86 [==============================] - 2s 23ms/step - loss: 0.0535 - accuracy: 0.9869\n",
            "Epoch 13/30\n",
            "86/86 [==============================] - 2s 22ms/step - loss: 0.0219 - accuracy: 0.9949\n",
            "Epoch 14/30\n",
            "86/86 [==============================] - 2s 24ms/step - loss: 0.0102 - accuracy: 0.9989\n",
            "Epoch 15/30\n",
            "86/86 [==============================] - 2s 23ms/step - loss: 0.0032 - accuracy: 0.9996\n",
            "Epoch 16/30\n",
            "86/86 [==============================] - 2s 23ms/step - loss: 0.0050 - accuracy: 0.9996\n",
            "Epoch 17/30\n",
            "86/86 [==============================] - 2s 23ms/step - loss: 0.0063 - accuracy: 0.9993\n",
            "Epoch 18/30\n",
            "86/86 [==============================] - 2s 23ms/step - loss: 0.0019 - accuracy: 0.9996\n",
            "Epoch 19/30\n",
            "86/86 [==============================] - 2s 23ms/step - loss: 0.0042 - accuracy: 0.9996\n",
            "Epoch 20/30\n",
            "86/86 [==============================] - 2s 22ms/step - loss: 0.0039 - accuracy: 0.9996\n",
            "Epoch 21/30\n",
            "86/86 [==============================] - 2s 22ms/step - loss: 0.0064 - accuracy: 0.9993\n",
            "Epoch 22/30\n",
            "86/86 [==============================] - 2s 23ms/step - loss: 0.0038 - accuracy: 0.9996\n",
            "Epoch 23/30\n",
            "86/86 [==============================] - 2s 23ms/step - loss: 0.0036 - accuracy: 0.9996\n",
            "Epoch 24/30\n",
            "86/86 [==============================] - 2s 23ms/step - loss: 0.0051 - accuracy: 0.9993\n",
            "Epoch 25/30\n",
            "86/86 [==============================] - 2s 24ms/step - loss: 0.0035 - accuracy: 0.9996\n",
            "Epoch 26/30\n",
            "86/86 [==============================] - 2s 23ms/step - loss: 0.0051 - accuracy: 0.9993\n",
            "Epoch 27/30\n",
            "86/86 [==============================] - 2s 23ms/step - loss: 0.0022 - accuracy: 0.9996\n",
            "Epoch 28/30\n",
            "86/86 [==============================] - 2s 23ms/step - loss: 0.0032 - accuracy: 0.9996\n",
            "Epoch 29/30\n",
            "86/86 [==============================] - 2s 23ms/step - loss: 0.0026 - accuracy: 0.9996\n",
            "Epoch 30/30\n",
            "86/86 [==============================] - 2s 22ms/step - loss: 0.0034 - accuracy: 0.9996\n"
          ]
        },
        {
          "output_type": "execute_result",
          "data": {
            "text/plain": [
              "<keras.callbacks.History at 0x7f0030285cd0>"
            ]
          },
          "metadata": {},
          "execution_count": 10
        }
      ]
    },
    {
      "cell_type": "code",
      "source": [
        "model.evaluate(X_test_scaled,y_test)"
      ],
      "metadata": {
        "colab": {
          "base_uri": "https://localhost:8080/"
        },
        "id": "fpVJ1goLSZkH",
        "outputId": "45923eb0-5aee-412a-a67e-2a3f3178e3f9"
      },
      "execution_count": null,
      "outputs": [
        {
          "output_type": "stream",
          "name": "stdout",
          "text": [
            "29/29 [==============================] - 1s 16ms/step - loss: 2.3236 - accuracy: 0.6503\n"
          ]
        },
        {
          "output_type": "execute_result",
          "data": {
            "text/plain": [
              "[2.3236334323883057, 0.6503267884254456]"
            ]
          },
          "metadata": {},
          "execution_count": 11
        }
      ]
    },
    {
      "cell_type": "code",
      "source": [
        "data_augmentation = keras.Sequential(\n",
        "  [\n",
        "    layers.experimental.preprocessing.RandomFlip(\"horizontal\", \n",
        "                                                 input_shape=X[0].shape),\n",
        "    layers.experimental.preprocessing.RandomRotation(0.1),\n",
        "    layers.experimental.preprocessing.RandomZoom(0.1),\n",
        "  ]\n",
        ")"
      ],
      "metadata": {
        "id": "8ghsOcFiSbZB"
      },
      "execution_count": null,
      "outputs": []
    },
    {
      "cell_type": "code",
      "source": [
        "num_classes = 5\n",
        "\n",
        "model = Sequential([\n",
        "  data_augmentation,\n",
        "  layers.Conv2D(16, 3, padding='same', activation='relu'),\n",
        "  layers.MaxPooling2D(),\n",
        "  layers.Conv2D(32, 3, padding='same', activation='relu'),\n",
        "  layers.MaxPooling2D(),\n",
        "  layers.Conv2D(64, 3, padding='same', activation='relu'),\n",
        "  layers.MaxPooling2D(),\n",
        "  layers.Dropout(0.2),\n",
        "  layers.Flatten(),\n",
        "  layers.Dense(128, activation='relu'),\n",
        "  layers.Dense(num_classes)\n",
        "])\n",
        "\n",
        "model.compile(optimizer='adam',\n",
        "              loss=tf.keras.losses.SparseCategoricalCrossentropy(from_logits=True),\n",
        "              metrics=['accuracy'])\n",
        "              \n",
        "model.fit(X_train_scaled, y_train, epochs=30)    "
      ],
      "metadata": {
        "colab": {
          "base_uri": "https://localhost:8080/"
        },
        "id": "Rr_gaSW2SlKs",
        "outputId": "dd209f7f-4639-46a0-95e9-8289e38aa35f"
      },
      "execution_count": null,
      "outputs": [
        {
          "output_type": "stream",
          "name": "stdout",
          "text": [
            "Epoch 1/30\n",
            "86/86 [==============================] - 4s 27ms/step - loss: 1.4857 - accuracy: 0.3648\n",
            "Epoch 2/30\n",
            "86/86 [==============================] - 2s 25ms/step - loss: 1.1184 - accuracy: 0.5403\n",
            "Epoch 3/30\n",
            "86/86 [==============================] - 2s 26ms/step - loss: 1.0160 - accuracy: 0.5992\n",
            "Epoch 4/30\n",
            "86/86 [==============================] - 2s 26ms/step - loss: 0.9275 - accuracy: 0.6453\n",
            "Epoch 5/30\n",
            "86/86 [==============================] - 2s 26ms/step - loss: 0.8590 - accuracy: 0.6679\n",
            "Epoch 6/30\n",
            "86/86 [==============================] - 2s 25ms/step - loss: 0.7936 - accuracy: 0.7057\n",
            "Epoch 7/30\n",
            "86/86 [==============================] - 2s 26ms/step - loss: 0.7845 - accuracy: 0.7031\n",
            "Epoch 8/30\n",
            "86/86 [==============================] - 2s 26ms/step - loss: 0.7309 - accuracy: 0.7209\n",
            "Epoch 9/30\n",
            "86/86 [==============================] - 2s 26ms/step - loss: 0.7051 - accuracy: 0.7300\n",
            "Epoch 10/30\n",
            "86/86 [==============================] - 2s 26ms/step - loss: 0.6622 - accuracy: 0.7449\n",
            "Epoch 11/30\n",
            "86/86 [==============================] - 3s 33ms/step - loss: 0.6602 - accuracy: 0.7533\n",
            "Epoch 12/30\n",
            "86/86 [==============================] - 2s 27ms/step - loss: 0.6122 - accuracy: 0.7624\n",
            "Epoch 13/30\n",
            "86/86 [==============================] - 2s 26ms/step - loss: 0.6084 - accuracy: 0.7689\n",
            "Epoch 14/30\n",
            "86/86 [==============================] - 2s 26ms/step - loss: 0.5612 - accuracy: 0.7878\n",
            "Epoch 15/30\n",
            "86/86 [==============================] - 2s 26ms/step - loss: 0.5748 - accuracy: 0.7838\n",
            "Epoch 16/30\n",
            "86/86 [==============================] - 2s 26ms/step - loss: 0.5273 - accuracy: 0.7918\n",
            "Epoch 17/30\n",
            "86/86 [==============================] - 2s 26ms/step - loss: 0.5142 - accuracy: 0.8049\n",
            "Epoch 18/30\n",
            "86/86 [==============================] - 2s 26ms/step - loss: 0.4988 - accuracy: 0.8067\n",
            "Epoch 19/30\n",
            "86/86 [==============================] - 2s 26ms/step - loss: 0.4955 - accuracy: 0.8161\n",
            "Epoch 20/30\n",
            "86/86 [==============================] - 2s 26ms/step - loss: 0.4473 - accuracy: 0.8332\n",
            "Epoch 21/30\n",
            "86/86 [==============================] - 2s 28ms/step - loss: 0.4502 - accuracy: 0.8339\n",
            "Epoch 22/30\n",
            "86/86 [==============================] - 2s 28ms/step - loss: 0.4238 - accuracy: 0.8339\n",
            "Epoch 23/30\n",
            "86/86 [==============================] - 2s 26ms/step - loss: 0.4360 - accuracy: 0.8405\n",
            "Epoch 24/30\n",
            "86/86 [==============================] - 2s 26ms/step - loss: 0.3916 - accuracy: 0.8507\n",
            "Epoch 25/30\n",
            "86/86 [==============================] - 2s 26ms/step - loss: 0.3743 - accuracy: 0.8557\n",
            "Epoch 26/30\n",
            "86/86 [==============================] - 2s 26ms/step - loss: 0.3797 - accuracy: 0.8554\n",
            "Epoch 27/30\n",
            "86/86 [==============================] - 2s 26ms/step - loss: 0.3320 - accuracy: 0.8772\n",
            "Epoch 28/30\n",
            "86/86 [==============================] - 2s 26ms/step - loss: 0.3183 - accuracy: 0.8844\n",
            "Epoch 29/30\n",
            "86/86 [==============================] - 2s 26ms/step - loss: 0.3102 - accuracy: 0.8801\n",
            "Epoch 30/30\n",
            "86/86 [==============================] - 2s 26ms/step - loss: 0.3399 - accuracy: 0.8714\n"
          ]
        },
        {
          "output_type": "execute_result",
          "data": {
            "text/plain": [
              "<keras.callbacks.History at 0x7effd4544c10>"
            ]
          },
          "metadata": {},
          "execution_count": 13
        }
      ]
    },
    {
      "cell_type": "code",
      "source": [
        "model.evaluate(X_test_scaled,y_test)"
      ],
      "metadata": {
        "colab": {
          "base_uri": "https://localhost:8080/"
        },
        "id": "iE8tSiHxSo8g",
        "outputId": "b04795b2-e7c6-4199-9440-d0f86ee58ae4"
      },
      "execution_count": null,
      "outputs": [
        {
          "output_type": "stream",
          "name": "stdout",
          "text": [
            "29/29 [==============================] - 1s 15ms/step - loss: 1.1448 - accuracy: 0.6895\n"
          ]
        },
        {
          "output_type": "execute_result",
          "data": {
            "text/plain": [
              "[1.1447969675064087, 0.6895424723625183]"
            ]
          },
          "metadata": {},
          "execution_count": 14
        }
      ]
    },
    {
      "cell_type": "code",
      "source": [
        "m_res = tf.keras.applications.ResNet50V2(weights=None)"
      ],
      "metadata": {
        "id": "neajDsRHSvkT"
      },
      "execution_count": null,
      "outputs": []
    },
    {
      "cell_type": "code",
      "source": [
        "num_classes = 5\n",
        "\n",
        "model = Sequential([\n",
        "  data_augmentation,\n",
        "  tf.keras.layers.Resizing(224, 224),\n",
        "  m_res,\n",
        "  layers.Dense(128, activation='relu'),\n",
        "  layers.Dense(num_classes)  \n",
        "])\n",
        "\n",
        "model.compile(optimizer='adam',\n",
        "              loss=tf.keras.losses.SparseCategoricalCrossentropy(from_logits=True),\n",
        "              metrics=['accuracy'])\n",
        "              \n",
        "model.fit(X_train_scaled, y_train, epochs=30)   "
      ],
      "metadata": {
        "colab": {
          "base_uri": "https://localhost:8080/"
        },
        "id": "MQWIFYRITkAD",
        "outputId": "45e29339-e2f5-452a-fcdb-8e64c150e06b"
      },
      "execution_count": null,
      "outputs": [
        {
          "output_type": "stream",
          "name": "stdout",
          "text": [
            "Epoch 1/30\n",
            "86/86 [==============================] - 28s 272ms/step - loss: 1.3859 - accuracy: 0.6414\n",
            "Epoch 2/30\n",
            "86/86 [==============================] - 24s 277ms/step - loss: 1.1204 - accuracy: 0.6185\n",
            "Epoch 3/30\n",
            "86/86 [==============================] - 24s 282ms/step - loss: 0.9830 - accuracy: 0.6464\n",
            "Epoch 4/30\n",
            "86/86 [==============================] - 24s 282ms/step - loss: 0.8873 - accuracy: 0.6886\n",
            "Epoch 5/30\n",
            "86/86 [==============================] - 24s 279ms/step - loss: 0.8533 - accuracy: 0.7013\n",
            "Epoch 6/30\n",
            "86/86 [==============================] - 24s 280ms/step - loss: 0.8402 - accuracy: 0.7049\n",
            "Epoch 7/30\n",
            "86/86 [==============================] - 24s 281ms/step - loss: 0.8208 - accuracy: 0.7024\n",
            "Epoch 8/30\n",
            "86/86 [==============================] - 24s 281ms/step - loss: 0.7733 - accuracy: 0.7326\n",
            "Epoch 9/30\n",
            "86/86 [==============================] - 24s 280ms/step - loss: 0.7818 - accuracy: 0.7188\n",
            "Epoch 10/30\n",
            "86/86 [==============================] - 24s 280ms/step - loss: 0.7531 - accuracy: 0.7333\n",
            "Epoch 11/30\n",
            "86/86 [==============================] - 24s 280ms/step - loss: 0.7081 - accuracy: 0.7522\n",
            "Epoch 12/30\n",
            "86/86 [==============================] - 24s 280ms/step - loss: 0.7366 - accuracy: 0.7413\n",
            "Epoch 13/30\n",
            "86/86 [==============================] - 24s 281ms/step - loss: 0.6864 - accuracy: 0.7602\n",
            "Epoch 14/30\n",
            "86/86 [==============================] - 24s 281ms/step - loss: 0.6772 - accuracy: 0.7656\n",
            "Epoch 15/30\n",
            "86/86 [==============================] - 24s 281ms/step - loss: 0.6563 - accuracy: 0.7693\n",
            "Epoch 16/30\n",
            "86/86 [==============================] - 24s 281ms/step - loss: 0.6277 - accuracy: 0.7794\n",
            "Epoch 17/30\n",
            "86/86 [==============================] - 24s 281ms/step - loss: 0.6273 - accuracy: 0.7794\n",
            "Epoch 18/30\n",
            "86/86 [==============================] - 24s 281ms/step - loss: 0.5941 - accuracy: 0.7831\n",
            "Epoch 19/30\n",
            "86/86 [==============================] - 24s 281ms/step - loss: 0.5855 - accuracy: 0.7998\n",
            "Epoch 20/30\n",
            "86/86 [==============================] - 24s 281ms/step - loss: 0.5954 - accuracy: 0.7889\n",
            "Epoch 21/30\n",
            "86/86 [==============================] - 24s 281ms/step - loss: 0.5875 - accuracy: 0.7918\n",
            "Epoch 22/30\n",
            "86/86 [==============================] - 24s 281ms/step - loss: 0.5661 - accuracy: 0.7998\n",
            "Epoch 23/30\n",
            "86/86 [==============================] - 24s 281ms/step - loss: 0.5847 - accuracy: 0.7922\n",
            "Epoch 24/30\n",
            "86/86 [==============================] - 24s 281ms/step - loss: 0.5608 - accuracy: 0.7929\n",
            "Epoch 25/30\n",
            "86/86 [==============================] - 24s 282ms/step - loss: 0.5402 - accuracy: 0.8140\n",
            "Epoch 26/30\n",
            "86/86 [==============================] - 24s 282ms/step - loss: 0.5203 - accuracy: 0.8110\n",
            "Epoch 27/30\n",
            "86/86 [==============================] - 24s 282ms/step - loss: 0.5132 - accuracy: 0.8205\n",
            "Epoch 28/30\n",
            "86/86 [==============================] - 24s 282ms/step - loss: 0.4953 - accuracy: 0.8328\n",
            "Epoch 29/30\n",
            "86/86 [==============================] - 24s 281ms/step - loss: 0.4909 - accuracy: 0.8183\n",
            "Epoch 30/30\n",
            "86/86 [==============================] - 24s 282ms/step - loss: 0.4870 - accuracy: 0.8303\n"
          ]
        },
        {
          "output_type": "execute_result",
          "data": {
            "text/plain": [
              "<keras.callbacks.History at 0x7efdd05e06d0>"
            ]
          },
          "metadata": {},
          "execution_count": 18
        }
      ]
    },
    {
      "cell_type": "code",
      "source": [
        "model.evaluate(X_test_scaled,y_test)"
      ],
      "metadata": {
        "colab": {
          "base_uri": "https://localhost:8080/"
        },
        "id": "smDHPT16aZji",
        "outputId": "c198cf2b-094d-4a52-ddd1-22397d95780e"
      },
      "execution_count": null,
      "outputs": [
        {
          "output_type": "stream",
          "name": "stdout",
          "text": [
            "29/29 [==============================] - 4s 117ms/step - loss: 1.6302 - accuracy: 0.4717\n"
          ]
        },
        {
          "output_type": "execute_result",
          "data": {
            "text/plain": [
              "[1.6301801204681396, 0.4716775715351105]"
            ]
          },
          "metadata": {},
          "execution_count": 19
        }
      ]
    },
    {
      "cell_type": "code",
      "source": [
        "m_inception = tf.keras.applications.inception_v3.InceptionV3(weights=None)\n",
        "num_classes = 5\n",
        "\n",
        "model = Sequential([\n",
        "  data_augmentation,\n",
        "  tf.keras.layers.Resizing(299, 299),\n",
        "  m_inception,\n",
        "  layers.Dense(num_classes)  \n",
        "])\n",
        "\n",
        "model.compile(optimizer='adam',\n",
        "              loss=tf.keras.losses.SparseCategoricalCrossentropy(from_logits=True),\n",
        "              metrics=['accuracy'])\n",
        "              \n",
        "model.fit(X_train_scaled, y_train, epochs=30)   "
      ],
      "metadata": {
        "colab": {
          "base_uri": "https://localhost:8080/",
          "height": 537
        },
        "id": "19NaCx5Fawer",
        "outputId": "0c86eea8-f832-4770-b9cb-7f65e419e567"
      },
      "execution_count": null,
      "outputs": [
        {
          "output_type": "stream",
          "name": "stdout",
          "text": [
            "Epoch 1/30\n",
            "86/86 [==============================] - 44s 436ms/step - loss: 1.5850 - accuracy: 0.3180\n",
            "Epoch 2/30\n",
            "86/86 [==============================] - 37s 434ms/step - loss: 1.5635 - accuracy: 0.3136\n",
            "Epoch 3/30\n",
            "86/86 [==============================] - 37s 431ms/step - loss: 1.5349 - accuracy: 0.3630\n",
            "Epoch 4/30\n",
            "86/86 [==============================] - 37s 433ms/step - loss: 1.5201 - accuracy: 0.3576\n",
            "Epoch 5/30\n",
            "32/86 [==========>...................] - ETA: 23s - loss: 1.4890 - accuracy: 0.3896"
          ]
        },
        {
          "output_type": "error",
          "ename": "KeyboardInterrupt",
          "evalue": "ignored",
          "traceback": [
            "\u001b[0;31m---------------------------------------------------------------------------\u001b[0m",
            "\u001b[0;31mKeyboardInterrupt\u001b[0m                         Traceback (most recent call last)",
            "\u001b[0;32m<ipython-input-23-fc278671bdd0>\u001b[0m in \u001b[0;36m<module>\u001b[0;34m\u001b[0m\n\u001b[1;32m     13\u001b[0m               metrics=['accuracy'])\n\u001b[1;32m     14\u001b[0m \u001b[0;34m\u001b[0m\u001b[0m\n\u001b[0;32m---> 15\u001b[0;31m \u001b[0mmodel\u001b[0m\u001b[0;34m.\u001b[0m\u001b[0mfit\u001b[0m\u001b[0;34m(\u001b[0m\u001b[0mX_train_scaled\u001b[0m\u001b[0;34m,\u001b[0m \u001b[0my_train\u001b[0m\u001b[0;34m,\u001b[0m \u001b[0mepochs\u001b[0m\u001b[0;34m=\u001b[0m\u001b[0;36m30\u001b[0m\u001b[0;34m)\u001b[0m\u001b[0;34m\u001b[0m\u001b[0;34m\u001b[0m\u001b[0m\n\u001b[0m",
            "\u001b[0;32m/usr/local/lib/python3.7/dist-packages/keras/utils/traceback_utils.py\u001b[0m in \u001b[0;36merror_handler\u001b[0;34m(*args, **kwargs)\u001b[0m\n\u001b[1;32m     62\u001b[0m     \u001b[0mfiltered_tb\u001b[0m \u001b[0;34m=\u001b[0m \u001b[0;32mNone\u001b[0m\u001b[0;34m\u001b[0m\u001b[0;34m\u001b[0m\u001b[0m\n\u001b[1;32m     63\u001b[0m     \u001b[0;32mtry\u001b[0m\u001b[0;34m:\u001b[0m\u001b[0;34m\u001b[0m\u001b[0;34m\u001b[0m\u001b[0m\n\u001b[0;32m---> 64\u001b[0;31m       \u001b[0;32mreturn\u001b[0m \u001b[0mfn\u001b[0m\u001b[0;34m(\u001b[0m\u001b[0;34m*\u001b[0m\u001b[0margs\u001b[0m\u001b[0;34m,\u001b[0m \u001b[0;34m**\u001b[0m\u001b[0mkwargs\u001b[0m\u001b[0;34m)\u001b[0m\u001b[0;34m\u001b[0m\u001b[0;34m\u001b[0m\u001b[0m\n\u001b[0m\u001b[1;32m     65\u001b[0m     \u001b[0;32mexcept\u001b[0m \u001b[0mException\u001b[0m \u001b[0;32mas\u001b[0m \u001b[0me\u001b[0m\u001b[0;34m:\u001b[0m  \u001b[0;31m# pylint: disable=broad-except\u001b[0m\u001b[0;34m\u001b[0m\u001b[0;34m\u001b[0m\u001b[0m\n\u001b[1;32m     66\u001b[0m       \u001b[0mfiltered_tb\u001b[0m \u001b[0;34m=\u001b[0m \u001b[0m_process_traceback_frames\u001b[0m\u001b[0;34m(\u001b[0m\u001b[0me\u001b[0m\u001b[0;34m.\u001b[0m\u001b[0m__traceback__\u001b[0m\u001b[0;34m)\u001b[0m\u001b[0;34m\u001b[0m\u001b[0;34m\u001b[0m\u001b[0m\n",
            "\u001b[0;32m/usr/local/lib/python3.7/dist-packages/keras/engine/training.py\u001b[0m in \u001b[0;36mfit\u001b[0;34m(self, x, y, batch_size, epochs, verbose, callbacks, validation_split, validation_data, shuffle, class_weight, sample_weight, initial_epoch, steps_per_epoch, validation_steps, validation_batch_size, validation_freq, max_queue_size, workers, use_multiprocessing)\u001b[0m\n\u001b[1;32m   1382\u001b[0m                 _r=1):\n\u001b[1;32m   1383\u001b[0m               \u001b[0mcallbacks\u001b[0m\u001b[0;34m.\u001b[0m\u001b[0mon_train_batch_begin\u001b[0m\u001b[0;34m(\u001b[0m\u001b[0mstep\u001b[0m\u001b[0;34m)\u001b[0m\u001b[0;34m\u001b[0m\u001b[0;34m\u001b[0m\u001b[0m\n\u001b[0;32m-> 1384\u001b[0;31m               \u001b[0mtmp_logs\u001b[0m \u001b[0;34m=\u001b[0m \u001b[0mself\u001b[0m\u001b[0;34m.\u001b[0m\u001b[0mtrain_function\u001b[0m\u001b[0;34m(\u001b[0m\u001b[0miterator\u001b[0m\u001b[0;34m)\u001b[0m\u001b[0;34m\u001b[0m\u001b[0;34m\u001b[0m\u001b[0m\n\u001b[0m\u001b[1;32m   1385\u001b[0m               \u001b[0;32mif\u001b[0m \u001b[0mdata_handler\u001b[0m\u001b[0;34m.\u001b[0m\u001b[0mshould_sync\u001b[0m\u001b[0;34m:\u001b[0m\u001b[0;34m\u001b[0m\u001b[0;34m\u001b[0m\u001b[0m\n\u001b[1;32m   1386\u001b[0m                 \u001b[0mcontext\u001b[0m\u001b[0;34m.\u001b[0m\u001b[0masync_wait\u001b[0m\u001b[0;34m(\u001b[0m\u001b[0;34m)\u001b[0m\u001b[0;34m\u001b[0m\u001b[0;34m\u001b[0m\u001b[0m\n",
            "\u001b[0;32m/usr/local/lib/python3.7/dist-packages/tensorflow/python/util/traceback_utils.py\u001b[0m in \u001b[0;36merror_handler\u001b[0;34m(*args, **kwargs)\u001b[0m\n\u001b[1;32m    148\u001b[0m     \u001b[0mfiltered_tb\u001b[0m \u001b[0;34m=\u001b[0m \u001b[0;32mNone\u001b[0m\u001b[0;34m\u001b[0m\u001b[0;34m\u001b[0m\u001b[0m\n\u001b[1;32m    149\u001b[0m     \u001b[0;32mtry\u001b[0m\u001b[0;34m:\u001b[0m\u001b[0;34m\u001b[0m\u001b[0;34m\u001b[0m\u001b[0m\n\u001b[0;32m--> 150\u001b[0;31m       \u001b[0;32mreturn\u001b[0m \u001b[0mfn\u001b[0m\u001b[0;34m(\u001b[0m\u001b[0;34m*\u001b[0m\u001b[0margs\u001b[0m\u001b[0;34m,\u001b[0m \u001b[0;34m**\u001b[0m\u001b[0mkwargs\u001b[0m\u001b[0;34m)\u001b[0m\u001b[0;34m\u001b[0m\u001b[0;34m\u001b[0m\u001b[0m\n\u001b[0m\u001b[1;32m    151\u001b[0m     \u001b[0;32mexcept\u001b[0m \u001b[0mException\u001b[0m \u001b[0;32mas\u001b[0m \u001b[0me\u001b[0m\u001b[0;34m:\u001b[0m\u001b[0;34m\u001b[0m\u001b[0;34m\u001b[0m\u001b[0m\n\u001b[1;32m    152\u001b[0m       \u001b[0mfiltered_tb\u001b[0m \u001b[0;34m=\u001b[0m \u001b[0m_process_traceback_frames\u001b[0m\u001b[0;34m(\u001b[0m\u001b[0me\u001b[0m\u001b[0;34m.\u001b[0m\u001b[0m__traceback__\u001b[0m\u001b[0;34m)\u001b[0m\u001b[0;34m\u001b[0m\u001b[0;34m\u001b[0m\u001b[0m\n",
            "\u001b[0;32m/usr/local/lib/python3.7/dist-packages/tensorflow/python/eager/def_function.py\u001b[0m in \u001b[0;36m__call__\u001b[0;34m(self, *args, **kwds)\u001b[0m\n\u001b[1;32m    913\u001b[0m \u001b[0;34m\u001b[0m\u001b[0m\n\u001b[1;32m    914\u001b[0m       \u001b[0;32mwith\u001b[0m \u001b[0mOptionalXlaContext\u001b[0m\u001b[0;34m(\u001b[0m\u001b[0mself\u001b[0m\u001b[0;34m.\u001b[0m\u001b[0m_jit_compile\u001b[0m\u001b[0;34m)\u001b[0m\u001b[0;34m:\u001b[0m\u001b[0;34m\u001b[0m\u001b[0;34m\u001b[0m\u001b[0m\n\u001b[0;32m--> 915\u001b[0;31m         \u001b[0mresult\u001b[0m \u001b[0;34m=\u001b[0m \u001b[0mself\u001b[0m\u001b[0;34m.\u001b[0m\u001b[0m_call\u001b[0m\u001b[0;34m(\u001b[0m\u001b[0;34m*\u001b[0m\u001b[0margs\u001b[0m\u001b[0;34m,\u001b[0m \u001b[0;34m**\u001b[0m\u001b[0mkwds\u001b[0m\u001b[0;34m)\u001b[0m\u001b[0;34m\u001b[0m\u001b[0;34m\u001b[0m\u001b[0m\n\u001b[0m\u001b[1;32m    916\u001b[0m \u001b[0;34m\u001b[0m\u001b[0m\n\u001b[1;32m    917\u001b[0m       \u001b[0mnew_tracing_count\u001b[0m \u001b[0;34m=\u001b[0m \u001b[0mself\u001b[0m\u001b[0;34m.\u001b[0m\u001b[0mexperimental_get_tracing_count\u001b[0m\u001b[0;34m(\u001b[0m\u001b[0;34m)\u001b[0m\u001b[0;34m\u001b[0m\u001b[0;34m\u001b[0m\u001b[0m\n",
            "\u001b[0;32m/usr/local/lib/python3.7/dist-packages/tensorflow/python/eager/def_function.py\u001b[0m in \u001b[0;36m_call\u001b[0;34m(self, *args, **kwds)\u001b[0m\n\u001b[1;32m    945\u001b[0m       \u001b[0;31m# In this case we have created variables on the first call, so we run the\u001b[0m\u001b[0;34m\u001b[0m\u001b[0;34m\u001b[0m\u001b[0;34m\u001b[0m\u001b[0m\n\u001b[1;32m    946\u001b[0m       \u001b[0;31m# defunned version which is guaranteed to never create variables.\u001b[0m\u001b[0;34m\u001b[0m\u001b[0;34m\u001b[0m\u001b[0;34m\u001b[0m\u001b[0m\n\u001b[0;32m--> 947\u001b[0;31m       \u001b[0;32mreturn\u001b[0m \u001b[0mself\u001b[0m\u001b[0;34m.\u001b[0m\u001b[0m_stateless_fn\u001b[0m\u001b[0;34m(\u001b[0m\u001b[0;34m*\u001b[0m\u001b[0margs\u001b[0m\u001b[0;34m,\u001b[0m \u001b[0;34m**\u001b[0m\u001b[0mkwds\u001b[0m\u001b[0;34m)\u001b[0m  \u001b[0;31m# pylint: disable=not-callable\u001b[0m\u001b[0;34m\u001b[0m\u001b[0;34m\u001b[0m\u001b[0m\n\u001b[0m\u001b[1;32m    948\u001b[0m     \u001b[0;32melif\u001b[0m \u001b[0mself\u001b[0m\u001b[0;34m.\u001b[0m\u001b[0m_stateful_fn\u001b[0m \u001b[0;32mis\u001b[0m \u001b[0;32mnot\u001b[0m \u001b[0;32mNone\u001b[0m\u001b[0;34m:\u001b[0m\u001b[0;34m\u001b[0m\u001b[0;34m\u001b[0m\u001b[0m\n\u001b[1;32m    949\u001b[0m       \u001b[0;31m# Release the lock early so that multiple threads can perform the call\u001b[0m\u001b[0;34m\u001b[0m\u001b[0;34m\u001b[0m\u001b[0;34m\u001b[0m\u001b[0m\n",
            "\u001b[0;32m/usr/local/lib/python3.7/dist-packages/tensorflow/python/eager/function.py\u001b[0m in \u001b[0;36m__call__\u001b[0;34m(self, *args, **kwargs)\u001b[0m\n\u001b[1;32m   2955\u001b[0m        filtered_flat_args) = self._maybe_define_function(args, kwargs)\n\u001b[1;32m   2956\u001b[0m     return graph_function._call_flat(\n\u001b[0;32m-> 2957\u001b[0;31m         filtered_flat_args, captured_inputs=graph_function.captured_inputs)  # pylint: disable=protected-access\n\u001b[0m\u001b[1;32m   2958\u001b[0m \u001b[0;34m\u001b[0m\u001b[0m\n\u001b[1;32m   2959\u001b[0m   \u001b[0;34m@\u001b[0m\u001b[0mproperty\u001b[0m\u001b[0;34m\u001b[0m\u001b[0;34m\u001b[0m\u001b[0m\n",
            "\u001b[0;32m/usr/local/lib/python3.7/dist-packages/tensorflow/python/eager/function.py\u001b[0m in \u001b[0;36m_call_flat\u001b[0;34m(self, args, captured_inputs, cancellation_manager)\u001b[0m\n\u001b[1;32m   1852\u001b[0m       \u001b[0;31m# No tape is watching; skip to running the function.\u001b[0m\u001b[0;34m\u001b[0m\u001b[0;34m\u001b[0m\u001b[0;34m\u001b[0m\u001b[0m\n\u001b[1;32m   1853\u001b[0m       return self._build_call_outputs(self._inference_function.call(\n\u001b[0;32m-> 1854\u001b[0;31m           ctx, args, cancellation_manager=cancellation_manager))\n\u001b[0m\u001b[1;32m   1855\u001b[0m     forward_backward = self._select_forward_and_backward_functions(\n\u001b[1;32m   1856\u001b[0m         \u001b[0margs\u001b[0m\u001b[0;34m,\u001b[0m\u001b[0;34m\u001b[0m\u001b[0;34m\u001b[0m\u001b[0m\n",
            "\u001b[0;32m/usr/local/lib/python3.7/dist-packages/tensorflow/python/eager/function.py\u001b[0m in \u001b[0;36mcall\u001b[0;34m(self, ctx, args, cancellation_manager)\u001b[0m\n\u001b[1;32m    502\u001b[0m               \u001b[0minputs\u001b[0m\u001b[0;34m=\u001b[0m\u001b[0margs\u001b[0m\u001b[0;34m,\u001b[0m\u001b[0;34m\u001b[0m\u001b[0;34m\u001b[0m\u001b[0m\n\u001b[1;32m    503\u001b[0m               \u001b[0mattrs\u001b[0m\u001b[0;34m=\u001b[0m\u001b[0mattrs\u001b[0m\u001b[0;34m,\u001b[0m\u001b[0;34m\u001b[0m\u001b[0;34m\u001b[0m\u001b[0m\n\u001b[0;32m--> 504\u001b[0;31m               ctx=ctx)\n\u001b[0m\u001b[1;32m    505\u001b[0m         \u001b[0;32melse\u001b[0m\u001b[0;34m:\u001b[0m\u001b[0;34m\u001b[0m\u001b[0;34m\u001b[0m\u001b[0m\n\u001b[1;32m    506\u001b[0m           outputs = execute.execute_with_cancellation(\n",
            "\u001b[0;32m/usr/local/lib/python3.7/dist-packages/tensorflow/python/eager/execute.py\u001b[0m in \u001b[0;36mquick_execute\u001b[0;34m(op_name, num_outputs, inputs, attrs, ctx, name)\u001b[0m\n\u001b[1;32m     53\u001b[0m     \u001b[0mctx\u001b[0m\u001b[0;34m.\u001b[0m\u001b[0mensure_initialized\u001b[0m\u001b[0;34m(\u001b[0m\u001b[0;34m)\u001b[0m\u001b[0;34m\u001b[0m\u001b[0;34m\u001b[0m\u001b[0m\n\u001b[1;32m     54\u001b[0m     tensors = pywrap_tfe.TFE_Py_Execute(ctx._handle, device_name, op_name,\n\u001b[0;32m---> 55\u001b[0;31m                                         inputs, attrs, num_outputs)\n\u001b[0m\u001b[1;32m     56\u001b[0m   \u001b[0;32mexcept\u001b[0m \u001b[0mcore\u001b[0m\u001b[0;34m.\u001b[0m\u001b[0m_NotOkStatusException\u001b[0m \u001b[0;32mas\u001b[0m \u001b[0me\u001b[0m\u001b[0;34m:\u001b[0m\u001b[0;34m\u001b[0m\u001b[0;34m\u001b[0m\u001b[0m\n\u001b[1;32m     57\u001b[0m     \u001b[0;32mif\u001b[0m \u001b[0mname\u001b[0m \u001b[0;32mis\u001b[0m \u001b[0;32mnot\u001b[0m \u001b[0;32mNone\u001b[0m\u001b[0;34m:\u001b[0m\u001b[0;34m\u001b[0m\u001b[0;34m\u001b[0m\u001b[0m\n",
            "\u001b[0;31mKeyboardInterrupt\u001b[0m: "
          ]
        }
      ]
    },
    {
      "cell_type": "code",
      "source": [
        "\n",
        "hub_layer = hub.KerasLayer(\n",
        "    'https://tfhub.dev/google/edgetpu/vision/mobilenet-edgetpu-v2-feature-vector/tiny/2',\n",
        "    trainable=False)\n",
        "\n",
        "num_classes = 5\n",
        "inputs = tf.keras.Input(shape=(224, 224, 3))\n",
        "x = hub_layer(inputs)\n",
        "x = tf.keras.layers.Conv2D(num_classes, 1, name='logits')(x)\n",
        "x = tf.keras.layers.Activation('softmax', name='probs')(x)\n",
        "outputs = tf.squeeze(x, axis=[1, 2])\n",
        "\n",
        "model = tf.keras.Model(inputs, outputs)\n",
        "\n",
        "m_resize = Sequential([\n",
        "  tf.keras.layers.Resizing(224, 224),\n",
        "  model  \n",
        "])"
      ],
      "metadata": {
        "id": "9XRis9vojj4B"
      },
      "execution_count": null,
      "outputs": []
    },
    {
      "cell_type": "code",
      "source": [
        "m_resize.compile(optimizer='adam',\n",
        "              loss=tf.keras.losses.SparseCategoricalCrossentropy(from_logits=False),\n",
        "              metrics=['accuracy'])\n",
        "              \n",
        "m_resize.fit(X_train_scaled, y_train, epochs=100)   "
      ],
      "metadata": {
        "colab": {
          "base_uri": "https://localhost:8080/"
        },
        "id": "maUgEX2Uk9nh",
        "outputId": "7397611d-52cf-4458-bc95-3d4945682666"
      },
      "execution_count": null,
      "outputs": [
        {
          "output_type": "stream",
          "name": "stdout",
          "text": [
            "Epoch 1/100\n",
            "86/86 [==============================] - 6s 47ms/step - loss: 0.0921 - accuracy: 0.9840\n",
            "Epoch 2/100\n",
            "86/86 [==============================] - 4s 46ms/step - loss: 0.0798 - accuracy: 0.9862\n",
            "Epoch 3/100\n",
            "86/86 [==============================] - 4s 46ms/step - loss: 0.0730 - accuracy: 0.9913\n",
            "Epoch 4/100\n",
            "86/86 [==============================] - 4s 47ms/step - loss: 0.0647 - accuracy: 0.9916\n",
            "Epoch 5/100\n",
            "86/86 [==============================] - 4s 47ms/step - loss: 0.0598 - accuracy: 0.9931\n",
            "Epoch 6/100\n",
            "86/86 [==============================] - 4s 47ms/step - loss: 0.0537 - accuracy: 0.9942\n",
            "Epoch 7/100\n",
            "86/86 [==============================] - 4s 47ms/step - loss: 0.0497 - accuracy: 0.9956\n",
            "Epoch 8/100\n",
            "86/86 [==============================] - 4s 47ms/step - loss: 0.0476 - accuracy: 0.9949\n",
            "Epoch 9/100\n",
            "86/86 [==============================] - 4s 47ms/step - loss: 0.0418 - accuracy: 0.9967\n",
            "Epoch 10/100\n",
            "86/86 [==============================] - 4s 46ms/step - loss: 0.0398 - accuracy: 0.9971\n",
            "Epoch 11/100\n",
            "86/86 [==============================] - 4s 46ms/step - loss: 0.0375 - accuracy: 0.9967\n",
            "Epoch 12/100\n",
            "86/86 [==============================] - 4s 46ms/step - loss: 0.0333 - accuracy: 0.9978\n",
            "Epoch 13/100\n",
            "86/86 [==============================] - 4s 46ms/step - loss: 0.0312 - accuracy: 0.9989\n",
            "Epoch 14/100\n",
            "86/86 [==============================] - 4s 46ms/step - loss: 0.0290 - accuracy: 0.9993\n",
            "Epoch 15/100\n",
            "86/86 [==============================] - 4s 47ms/step - loss: 0.0269 - accuracy: 0.9989\n",
            "Epoch 16/100\n",
            "86/86 [==============================] - 4s 47ms/step - loss: 0.0257 - accuracy: 0.9985\n",
            "Epoch 17/100\n",
            "86/86 [==============================] - 4s 47ms/step - loss: 0.0239 - accuracy: 0.9993\n",
            "Epoch 18/100\n",
            "86/86 [==============================] - 4s 47ms/step - loss: 0.0224 - accuracy: 0.9989\n",
            "Epoch 19/100\n",
            "86/86 [==============================] - 4s 47ms/step - loss: 0.0209 - accuracy: 0.9993\n",
            "Epoch 20/100\n",
            "86/86 [==============================] - 4s 47ms/step - loss: 0.0201 - accuracy: 0.9989\n",
            "Epoch 21/100\n",
            "86/86 [==============================] - 4s 46ms/step - loss: 0.0195 - accuracy: 0.9993\n",
            "Epoch 22/100\n",
            "86/86 [==============================] - 4s 47ms/step - loss: 0.0176 - accuracy: 0.9996\n",
            "Epoch 23/100\n",
            "86/86 [==============================] - 4s 47ms/step - loss: 0.0172 - accuracy: 0.9993\n",
            "Epoch 24/100\n",
            "86/86 [==============================] - 4s 46ms/step - loss: 0.0164 - accuracy: 0.9993\n",
            "Epoch 25/100\n",
            "86/86 [==============================] - 4s 47ms/step - loss: 0.0150 - accuracy: 0.9996\n",
            "Epoch 26/100\n",
            "86/86 [==============================] - 4s 48ms/step - loss: 0.0148 - accuracy: 0.9993\n",
            "Epoch 27/100\n",
            "86/86 [==============================] - 4s 46ms/step - loss: 0.0143 - accuracy: 0.9993\n",
            "Epoch 28/100\n",
            "86/86 [==============================] - 4s 46ms/step - loss: 0.0139 - accuracy: 0.9993\n",
            "Epoch 29/100\n",
            "86/86 [==============================] - 4s 46ms/step - loss: 0.0126 - accuracy: 0.9993\n",
            "Epoch 30/100\n",
            "86/86 [==============================] - 4s 46ms/step - loss: 0.0117 - accuracy: 0.9996\n",
            "Epoch 31/100\n",
            "86/86 [==============================] - 4s 46ms/step - loss: 0.0116 - accuracy: 0.9993\n",
            "Epoch 32/100\n",
            "86/86 [==============================] - 4s 46ms/step - loss: 0.0111 - accuracy: 0.9996\n",
            "Epoch 33/100\n",
            "86/86 [==============================] - 4s 47ms/step - loss: 0.0106 - accuracy: 0.9996\n",
            "Epoch 34/100\n",
            "86/86 [==============================] - 4s 46ms/step - loss: 0.0101 - accuracy: 0.9996\n",
            "Epoch 35/100\n",
            "86/86 [==============================] - 4s 46ms/step - loss: 0.0099 - accuracy: 0.9993\n",
            "Epoch 36/100\n",
            "86/86 [==============================] - 4s 46ms/step - loss: 0.0094 - accuracy: 0.9993\n",
            "Epoch 37/100\n",
            "86/86 [==============================] - 4s 46ms/step - loss: 0.0084 - accuracy: 1.0000\n",
            "Epoch 38/100\n",
            "86/86 [==============================] - 4s 46ms/step - loss: 0.0089 - accuracy: 0.9993\n",
            "Epoch 39/100\n",
            "86/86 [==============================] - 4s 46ms/step - loss: 0.0080 - accuracy: 0.9996\n",
            "Epoch 40/100\n",
            "86/86 [==============================] - 4s 46ms/step - loss: 0.0080 - accuracy: 0.9996\n",
            "Epoch 41/100\n",
            "86/86 [==============================] - 4s 46ms/step - loss: 0.0075 - accuracy: 0.9996\n",
            "Epoch 42/100\n",
            "86/86 [==============================] - 4s 46ms/step - loss: 0.0074 - accuracy: 0.9996\n",
            "Epoch 43/100\n",
            "86/86 [==============================] - 4s 46ms/step - loss: 0.0074 - accuracy: 0.9996\n",
            "Epoch 44/100\n",
            "86/86 [==============================] - 4s 47ms/step - loss: 0.0068 - accuracy: 0.9996\n",
            "Epoch 45/100\n",
            "86/86 [==============================] - 4s 46ms/step - loss: 0.0066 - accuracy: 0.9993\n",
            "Epoch 46/100\n",
            "86/86 [==============================] - 4s 46ms/step - loss: 0.0064 - accuracy: 0.9996\n",
            "Epoch 47/100\n",
            "86/86 [==============================] - 4s 46ms/step - loss: 0.0062 - accuracy: 0.9996\n",
            "Epoch 48/100\n",
            "86/86 [==============================] - 4s 46ms/step - loss: 0.0060 - accuracy: 0.9996\n",
            "Epoch 49/100\n",
            "86/86 [==============================] - 4s 46ms/step - loss: 0.0064 - accuracy: 0.9993\n",
            "Epoch 50/100\n",
            "86/86 [==============================] - 4s 46ms/step - loss: 0.0060 - accuracy: 0.9993\n",
            "Epoch 51/100\n",
            "86/86 [==============================] - 4s 46ms/step - loss: 0.0057 - accuracy: 0.9996\n",
            "Epoch 52/100\n",
            "86/86 [==============================] - 4s 46ms/step - loss: 0.0061 - accuracy: 0.9993\n",
            "Epoch 53/100\n",
            "86/86 [==============================] - 4s 46ms/step - loss: 0.0055 - accuracy: 0.9996\n",
            "Epoch 54/100\n",
            "86/86 [==============================] - 4s 47ms/step - loss: 0.0051 - accuracy: 0.9993\n",
            "Epoch 55/100\n",
            "86/86 [==============================] - 4s 46ms/step - loss: 0.0047 - accuracy: 0.9996\n",
            "Epoch 56/100\n",
            "86/86 [==============================] - 4s 46ms/step - loss: 0.0047 - accuracy: 0.9996\n",
            "Epoch 57/100\n",
            "86/86 [==============================] - 4s 46ms/step - loss: 0.0050 - accuracy: 0.9993\n",
            "Epoch 58/100\n",
            "86/86 [==============================] - 4s 46ms/step - loss: 0.0041 - accuracy: 0.9996\n",
            "Epoch 59/100\n",
            "86/86 [==============================] - 4s 46ms/step - loss: 0.0041 - accuracy: 0.9996\n",
            "Epoch 60/100\n",
            "86/86 [==============================] - 4s 46ms/step - loss: 0.0041 - accuracy: 0.9996\n",
            "Epoch 61/100\n",
            "86/86 [==============================] - 4s 46ms/step - loss: 0.0042 - accuracy: 0.9993\n",
            "Epoch 62/100\n",
            "86/86 [==============================] - 4s 46ms/step - loss: 0.0038 - accuracy: 0.9996\n",
            "Epoch 63/100\n",
            "86/86 [==============================] - 4s 46ms/step - loss: 0.0039 - accuracy: 0.9996\n",
            "Epoch 64/100\n",
            "86/86 [==============================] - 4s 48ms/step - loss: 0.0036 - accuracy: 0.9996\n",
            "Epoch 65/100\n",
            "86/86 [==============================] - 4s 46ms/step - loss: 0.0041 - accuracy: 0.9993\n",
            "Epoch 66/100\n",
            "86/86 [==============================] - 4s 46ms/step - loss: 0.0034 - accuracy: 0.9996\n",
            "Epoch 67/100\n",
            "86/86 [==============================] - 4s 46ms/step - loss: 0.0035 - accuracy: 0.9996\n",
            "Epoch 68/100\n",
            "86/86 [==============================] - 4s 46ms/step - loss: 0.0033 - accuracy: 0.9996\n",
            "Epoch 69/100\n",
            "86/86 [==============================] - 4s 47ms/step - loss: 0.0030 - accuracy: 0.9996\n",
            "Epoch 70/100\n",
            "86/86 [==============================] - 4s 46ms/step - loss: 0.0032 - accuracy: 0.9996\n",
            "Epoch 71/100\n",
            "86/86 [==============================] - 4s 46ms/step - loss: 0.0037 - accuracy: 0.9993\n",
            "Epoch 72/100\n",
            "86/86 [==============================] - 4s 46ms/step - loss: 0.0033 - accuracy: 0.9996\n",
            "Epoch 73/100\n",
            "86/86 [==============================] - 4s 46ms/step - loss: 0.0029 - accuracy: 0.9996\n",
            "Epoch 74/100\n",
            "86/86 [==============================] - 4s 47ms/step - loss: 0.0029 - accuracy: 0.9996\n",
            "Epoch 75/100\n",
            "86/86 [==============================] - 4s 47ms/step - loss: 0.0032 - accuracy: 0.9996\n",
            "Epoch 76/100\n",
            "86/86 [==============================] - 4s 47ms/step - loss: 0.0033 - accuracy: 0.9993\n",
            "Epoch 77/100\n",
            "86/86 [==============================] - 4s 46ms/step - loss: 0.0028 - accuracy: 0.9996\n",
            "Epoch 78/100\n",
            "86/86 [==============================] - 4s 46ms/step - loss: 0.0032 - accuracy: 0.9993\n",
            "Epoch 79/100\n",
            "86/86 [==============================] - 4s 46ms/step - loss: 0.0029 - accuracy: 0.9993\n",
            "Epoch 80/100\n",
            "86/86 [==============================] - 4s 46ms/step - loss: 0.0030 - accuracy: 0.9993\n",
            "Epoch 81/100\n",
            "86/86 [==============================] - 4s 47ms/step - loss: 0.0024 - accuracy: 0.9996\n",
            "Epoch 82/100\n",
            "86/86 [==============================] - 4s 46ms/step - loss: 0.0030 - accuracy: 0.9993\n",
            "Epoch 83/100\n",
            "86/86 [==============================] - 4s 47ms/step - loss: 0.0023 - accuracy: 0.9996\n",
            "Epoch 84/100\n",
            "86/86 [==============================] - 4s 46ms/step - loss: 0.0024 - accuracy: 0.9996\n",
            "Epoch 85/100\n",
            "86/86 [==============================] - 4s 46ms/step - loss: 0.0028 - accuracy: 0.9993\n",
            "Epoch 86/100\n",
            "86/86 [==============================] - 4s 46ms/step - loss: 0.0021 - accuracy: 0.9996\n",
            "Epoch 87/100\n",
            "86/86 [==============================] - 4s 46ms/step - loss: 0.0024 - accuracy: 0.9996\n",
            "Epoch 88/100\n",
            "86/86 [==============================] - 4s 46ms/step - loss: 0.0022 - accuracy: 0.9996\n",
            "Epoch 89/100\n",
            "86/86 [==============================] - 4s 46ms/step - loss: 0.0027 - accuracy: 0.9993\n",
            "Epoch 90/100\n",
            "86/86 [==============================] - 4s 46ms/step - loss: 0.0023 - accuracy: 0.9996\n",
            "Epoch 91/100\n",
            "86/86 [==============================] - 4s 46ms/step - loss: 0.0020 - accuracy: 0.9996\n",
            "Epoch 92/100\n",
            "86/86 [==============================] - 4s 46ms/step - loss: 0.0021 - accuracy: 0.9996\n",
            "Epoch 93/100\n",
            "86/86 [==============================] - 4s 46ms/step - loss: 0.0024 - accuracy: 0.9993\n",
            "Epoch 94/100\n",
            "86/86 [==============================] - 4s 46ms/step - loss: 0.0027 - accuracy: 0.9993\n",
            "Epoch 95/100\n",
            "86/86 [==============================] - 4s 46ms/step - loss: 0.0027 - accuracy: 0.9993\n",
            "Epoch 96/100\n",
            "86/86 [==============================] - 4s 46ms/step - loss: 0.0020 - accuracy: 0.9993\n",
            "Epoch 97/100\n",
            "86/86 [==============================] - 4s 46ms/step - loss: 0.0020 - accuracy: 0.9993\n",
            "Epoch 98/100\n",
            "86/86 [==============================] - 4s 46ms/step - loss: 0.0019 - accuracy: 0.9996\n",
            "Epoch 99/100\n",
            "86/86 [==============================] - 4s 46ms/step - loss: 0.0019 - accuracy: 0.9996\n",
            "Epoch 100/100\n",
            "86/86 [==============================] - 4s 46ms/step - loss: 0.0025 - accuracy: 0.9993\n"
          ]
        },
        {
          "output_type": "execute_result",
          "data": {
            "text/plain": [
              "<keras.callbacks.History at 0x7f95a35ffed0>"
            ]
          },
          "metadata": {},
          "execution_count": 14
        }
      ]
    },
    {
      "cell_type": "code",
      "source": [
        "m_resize.evaluate(X_test_scaled,y_test)"
      ],
      "metadata": {
        "colab": {
          "base_uri": "https://localhost:8080/"
        },
        "id": "HOA3PeIJmwwv",
        "outputId": "b134ad02-6f79-455c-a93e-50be2682762f"
      },
      "execution_count": null,
      "outputs": [
        {
          "output_type": "stream",
          "name": "stdout",
          "text": [
            "29/29 [==============================] - 3s 61ms/step - loss: 0.6193 - accuracy: 0.8824\n"
          ]
        },
        {
          "output_type": "execute_result",
          "data": {
            "text/plain": [
              "[0.6193068027496338, 0.8823529481887817]"
            ]
          },
          "metadata": {},
          "execution_count": 15
        }
      ]
    },
    {
      "cell_type": "code",
      "source": [
        "data_augmentation_transfer = keras.Sequential(\n",
        "  [\n",
        "    layers.experimental.preprocessing.RandomFlip(\"horizontal\", \n",
        "                                                 input_shape=(224,224,3)),\n",
        "    layers.experimental.preprocessing.RandomRotation(0.1),\n",
        "    layers.experimental.preprocessing.RandomZoom(0.1),\n",
        "  ]\n",
        ")\n",
        "\n",
        "m_resize_augmentation = Sequential([\n",
        "  tf.keras.layers.Resizing(224, 224),\n",
        "  data_augmentation_transfer,\n",
        "  model  \n",
        "])\n",
        "\n",
        "m_resize_augmentation.compile(optimizer='adam',\n",
        "              loss=tf.keras.losses.SparseCategoricalCrossentropy(from_logits=False),\n",
        "              metrics=['accuracy'])\n",
        "              \n",
        "m_resize_augmentation.fit(X_train_scaled, y_train, epochs=100) "
      ],
      "metadata": {
        "colab": {
          "base_uri": "https://localhost:8080/",
          "height": 236
        },
        "id": "XaYh2GE9nAh-",
        "outputId": "1c419a7a-d3e2-42f4-be68-88dee423b6c1"
      },
      "execution_count": null,
      "outputs": [
        {
          "output_type": "error",
          "ename": "NameError",
          "evalue": "ignored",
          "traceback": [
            "\u001b[0;31m---------------------------------------------------------------------------\u001b[0m",
            "\u001b[0;31mNameError\u001b[0m                                 Traceback (most recent call last)",
            "\u001b[0;32m<ipython-input-1-861367fc29b5>\u001b[0m in \u001b[0;36m<module>\u001b[0;34m\u001b[0m\n\u001b[0;32m----> 1\u001b[0;31m data_augmentation_transfer = keras.Sequential(\n\u001b[0m\u001b[1;32m      2\u001b[0m   [\n\u001b[1;32m      3\u001b[0m     layers.experimental.preprocessing.RandomFlip(\"horizontal\", \n\u001b[1;32m      4\u001b[0m                                                  input_shape=(224,224,3)),\n\u001b[1;32m      5\u001b[0m     \u001b[0mlayers\u001b[0m\u001b[0;34m.\u001b[0m\u001b[0mexperimental\u001b[0m\u001b[0;34m.\u001b[0m\u001b[0mpreprocessing\u001b[0m\u001b[0;34m.\u001b[0m\u001b[0mRandomRotation\u001b[0m\u001b[0;34m(\u001b[0m\u001b[0;36m0.1\u001b[0m\u001b[0;34m)\u001b[0m\u001b[0;34m,\u001b[0m\u001b[0;34m\u001b[0m\u001b[0;34m\u001b[0m\u001b[0m\n",
            "\u001b[0;31mNameError\u001b[0m: name 'keras' is not defined"
          ]
        }
      ]
    },
    {
      "cell_type": "code",
      "source": [
        "m_resize_augmentation.evaluate(X_test_scaled, y_test)"
      ],
      "metadata": {
        "colab": {
          "base_uri": "https://localhost:8080/"
        },
        "id": "flzcUiY4o-hV",
        "outputId": "3edd0a65-290b-43d5-faa3-aff56f92258b"
      },
      "execution_count": null,
      "outputs": [
        {
          "output_type": "stream",
          "name": "stdout",
          "text": [
            "29/29 [==============================] - 3s 49ms/step - loss: 0.3853 - accuracy: 0.8791\n"
          ]
        },
        {
          "output_type": "execute_result",
          "data": {
            "text/plain": [
              "[0.38525697588920593, 0.8790849447250366]"
            ]
          },
          "metadata": {},
          "execution_count": 19
        }
      ]
    },
    {
      "cell_type": "markdown",
      "source": [
        "- FIX the OF essues :"
      ],
      "metadata": {
        "id": "d2eFprC7t5gg"
      }
    },
    {
      "cell_type": "code",
      "source": [
        "hub_layer = hub.KerasLayer(\n",
        "    'https://tfhub.dev/google/edgetpu/vision/mobilenet-edgetpu-v2-feature-vector/tiny/2',\n",
        "    trainable=False)\n",
        "\n",
        "num_classes = 5\n",
        "inputs1 = tf.keras.Input(shape=(224, 224, 3))\n",
        "x1 = hub_layer(inputs1)\n",
        "x1 = tf.keras.layers.Conv2D(32, 3, name='logits32', padding='same')(x1) # not forget 'same' else Error\n",
        "x1 = tf.keras.layers.Dropout(0.5)(x1)\n",
        "x1 = tf.keras.layers.Conv2D(16, 3, name='logits16', padding='same')(x1) # not forget 'same' else Error\n",
        "x1 = tf.keras.layers.Dropout(0.5)(x1)\n",
        "x1 = tf.keras.layers.Conv2D(num_classes, 1, name='logits')(x1)\n",
        "x1 = tf.keras.layers.Activation('softmax', name='probs')(x1)\n",
        "outputs1 = tf.squeeze(x1, axis=[1, 2])\n",
        "\n",
        "model1 = tf.keras.Model(inputs1, outputs1)\n",
        "\n",
        "m_resize1 = Sequential([\n",
        "  tf.keras.layers.Resizing(224, 224),\n",
        "  model1  \n",
        "])\n",
        "\n",
        "m_resize1.compile(optimizer='adam',\n",
        "              loss=tf.keras.losses.SparseCategoricalCrossentropy(from_logits=False),\n",
        "              metrics=['accuracy'])\n",
        "              \n",
        "m_resize1.fit(X_train_scaled, y_train, epochs=30)  "
      ],
      "metadata": {
        "colab": {
          "base_uri": "https://localhost:8080/"
        },
        "id": "6kOlPLQct4wH",
        "outputId": "90e432f7-c9d3-4261-9097-13072996feb5"
      },
      "execution_count": null,
      "outputs": [
        {
          "output_type": "stream",
          "name": "stdout",
          "text": [
            "Epoch 1/30\n",
            "86/86 [==============================] - 13s 47ms/step - loss: 1.0216 - accuracy: 0.6072\n",
            "Epoch 2/30\n",
            "86/86 [==============================] - 4s 47ms/step - loss: 0.6630 - accuracy: 0.7584\n",
            "Epoch 3/30\n",
            "86/86 [==============================] - 4s 47ms/step - loss: 0.5209 - accuracy: 0.8234\n",
            "Epoch 4/30\n",
            "86/86 [==============================] - 4s 47ms/step - loss: 0.4732 - accuracy: 0.8368\n",
            "Epoch 5/30\n",
            "86/86 [==============================] - 4s 48ms/step - loss: 0.4322 - accuracy: 0.8543\n",
            "Epoch 6/30\n",
            "86/86 [==============================] - 4s 48ms/step - loss: 0.3903 - accuracy: 0.8616\n",
            "Epoch 7/30\n",
            "86/86 [==============================] - 4s 48ms/step - loss: 0.3272 - accuracy: 0.8815\n",
            "Epoch 8/30\n",
            "86/86 [==============================] - 4s 48ms/step - loss: 0.3084 - accuracy: 0.8950\n",
            "Epoch 9/30\n",
            "86/86 [==============================] - 4s 48ms/step - loss: 0.2904 - accuracy: 0.8939\n",
            "Epoch 10/30\n",
            "86/86 [==============================] - 4s 49ms/step - loss: 0.2865 - accuracy: 0.9023\n",
            "Epoch 11/30\n",
            "86/86 [==============================] - 4s 47ms/step - loss: 0.2540 - accuracy: 0.9157\n",
            "Epoch 12/30\n",
            "86/86 [==============================] - 4s 47ms/step - loss: 0.2430 - accuracy: 0.9113\n",
            "Epoch 13/30\n",
            "86/86 [==============================] - 4s 47ms/step - loss: 0.2380 - accuracy: 0.9175\n",
            "Epoch 14/30\n",
            "86/86 [==============================] - 4s 47ms/step - loss: 0.2198 - accuracy: 0.9226\n",
            "Epoch 15/30\n",
            "86/86 [==============================] - 4s 47ms/step - loss: 0.1950 - accuracy: 0.9350\n",
            "Epoch 16/30\n",
            "86/86 [==============================] - 4s 47ms/step - loss: 0.1874 - accuracy: 0.9350\n",
            "Epoch 17/30\n",
            "86/86 [==============================] - 4s 47ms/step - loss: 0.1785 - accuracy: 0.9335\n",
            "Epoch 18/30\n",
            "86/86 [==============================] - 4s 48ms/step - loss: 0.1881 - accuracy: 0.9371\n",
            "Epoch 19/30\n",
            "86/86 [==============================] - 4s 47ms/step - loss: 0.1762 - accuracy: 0.9397\n",
            "Epoch 20/30\n",
            "86/86 [==============================] - 4s 47ms/step - loss: 0.1815 - accuracy: 0.9375\n",
            "Epoch 21/30\n",
            "86/86 [==============================] - 4s 47ms/step - loss: 0.1498 - accuracy: 0.9466\n",
            "Epoch 22/30\n",
            "86/86 [==============================] - 4s 47ms/step - loss: 0.1500 - accuracy: 0.9440\n",
            "Epoch 23/30\n",
            "86/86 [==============================] - 4s 47ms/step - loss: 0.1560 - accuracy: 0.9480\n",
            "Epoch 24/30\n",
            "86/86 [==============================] - 4s 47ms/step - loss: 0.1519 - accuracy: 0.9422\n",
            "Epoch 25/30\n",
            "86/86 [==============================] - 4s 47ms/step - loss: 0.1498 - accuracy: 0.9451\n",
            "Epoch 26/30\n",
            "86/86 [==============================] - 4s 47ms/step - loss: 0.1273 - accuracy: 0.9568\n",
            "Epoch 27/30\n",
            "86/86 [==============================] - 4s 47ms/step - loss: 0.1619 - accuracy: 0.9371\n",
            "Epoch 28/30\n",
            "86/86 [==============================] - 4s 47ms/step - loss: 0.1354 - accuracy: 0.9553\n",
            "Epoch 29/30\n",
            "86/86 [==============================] - 4s 47ms/step - loss: 0.1441 - accuracy: 0.9502\n",
            "Epoch 30/30\n",
            "86/86 [==============================] - 4s 47ms/step - loss: 0.1392 - accuracy: 0.9524\n"
          ]
        },
        {
          "output_type": "execute_result",
          "data": {
            "text/plain": [
              "<keras.callbacks.History at 0x7f9397858c50>"
            ]
          },
          "metadata": {},
          "execution_count": 23
        }
      ]
    },
    {
      "cell_type": "code",
      "source": [
        "m_resize1.evaluate(X_test_scaled, y_test)"
      ],
      "metadata": {
        "id": "Og90qulyw5rY"
      },
      "execution_count": null,
      "outputs": []
    }
  ]
}