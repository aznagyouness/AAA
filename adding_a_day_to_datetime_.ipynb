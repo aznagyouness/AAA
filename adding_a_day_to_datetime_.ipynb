{
  "nbformat": 4,
  "nbformat_minor": 0,
  "metadata": {
    "colab": {
      "name": "adding a day to datetime .ipynb",
      "provenance": [],
      "authorship_tag": "ABX9TyMU2YfPTKHuFMcO369WHTve",
      "include_colab_link": true
    },
    "kernelspec": {
      "name": "python3",
      "display_name": "Python 3"
    },
    "language_info": {
      "name": "python"
    }
  },
  "cells": [
    {
      "cell_type": "markdown",
      "metadata": {
        "id": "view-in-github",
        "colab_type": "text"
      },
      "source": [
        "<a href=\"https://colab.research.google.com/github/aznagyouness/AAA/blob/main/adding_a_day_to_datetime_.ipynb\" target=\"_parent\"><img src=\"https://colab.research.google.com/assets/colab-badge.svg\" alt=\"Open In Colab\"/></a>"
      ]
    },
    {
      "cell_type": "code",
      "execution_count": 68,
      "metadata": {
        "colab": {
          "base_uri": "https://localhost:8080/"
        },
        "id": "07ZZRJdTWDAR",
        "outputId": "72ffc268-df3c-4911-e134-8f40c0d60377"
      },
      "outputs": [
        {
          "output_type": "stream",
          "name": "stdout",
          "text": [
            "<class 'pandas.core.frame.DataFrame'>\n",
            "RangeIndex: 2 entries, 0 to 1\n",
            "Data columns (total 1 columns):\n",
            " #   Column  Non-Null Count  Dtype         \n",
            "---  ------  --------------  -----         \n",
            " 0   0       2 non-null      datetime64[ns]\n",
            "dtypes: datetime64[ns](1)\n",
            "memory usage: 144.0 bytes\n",
            "          0          1          2          3          4          5   \\\n",
            "0 2022-03-25 2022-04-01 2022-04-08 2022-04-15 2022-04-22 2022-04-29   \n",
            "1 2022-03-31 2022-04-07 2022-04-14 2022-04-21 2022-04-28 2022-05-05   \n",
            "\n",
            "          6          7          8          9          10  \n",
            "0 2022-05-06 2022-05-13 2022-05-20 2022-05-27 2022-06-03  \n",
            "1 2022-05-12 2022-05-19 2022-05-26 2022-06-02 2022-06-09  \n",
            "0    3\n",
            "1    3\n",
            "Name: 0, dtype: int64\n",
            "Empty DataFrame\n",
            "Columns: []\n",
            "Index: [0, 1]\n",
            "the index are :  RangeIndex(start=0, stop=2, step=1)\n",
            "   0   1   2   3   4   5   6   7   8   9   10\n",
            "0  25   1   8  15  22  29   6  13  20  27   3\n",
            "1  31   7  14  21  28   5  12  19  26   2   9\n",
            "['25 au 31 mars', '1 au 7 av', '8 au 14 av', '15 au 21 av', '22 au 28 av', '29 av au 5 mai', '6 au 12 mai', '13 au 19 mai', '20 au 26 mai', '27 mai au 2 juin', '3 au 9 juin']\n"
          ]
        }
      ],
      "source": [
        "import pandas as pd\n",
        "import numpy as np\n",
        "df = pd.DataFrame([[\"25/03/2022\"], [\"31/03/2022\"]])\n",
        "#import datetime as dt\n",
        "\n",
        "df[0]= pd.to_datetime(df[0])\n",
        "\n",
        "df.info()\n",
        "\n",
        "n=10\n",
        "L = list(range(1,n+1))\n",
        "x=[]\n",
        "\n",
        "dic = {1:\"jan\",\n",
        "       2:\"fev\",\n",
        "       3:\"mars\",\n",
        "       4:\"av\",\n",
        "       5:\"mai\",\n",
        "       6:\"juin\",\n",
        "       7:\"jui\",\n",
        "       8:\"aout\",\n",
        "       9:\"sep\",\n",
        "       10:\"oct\",\n",
        "       11:\"nov\",\n",
        "       12:\"dec\"\n",
        "       }\n",
        "for i in L:\n",
        "  df[i] = df[i-1]+pd.DateOffset(days=7)\n",
        "\n",
        "m = pd.DataFrame([ [], [] ]) #Empty DataFrame\n",
        "d = pd.DataFrame([ [], [] ]) #Empty DataFrame\n",
        "print(df.head())\n",
        "print(df[0].dt.month) # dt.month work only with series \n",
        "print(d.head())\n",
        "\n",
        "#d[i] = df[i].dt.month_name().str[:3] \n",
        "print('the index are : ',df.index)\n",
        "\n",
        "for i in range(len(df.columns)):\n",
        "  m[i] = df[i].dt.month\n",
        "  d[i] = df[i].dt.day\n",
        "\n",
        "  if m[i][0]== m[i][1]:\n",
        "    x.append(str(d[i][0])+ \" au \" + str(d[i][1]) +\" \"+ dic[m[i][1]] )\n",
        "  else:\n",
        "    x.append(str(d[i][0])+\" \"+ dic[m[i][0]] +\" au \" + str(d[i][1]) +\" \"+ dic[m[i][1]] )\n",
        "print(d.head())\n",
        "print(x)"
      ]
    }
  ]
}