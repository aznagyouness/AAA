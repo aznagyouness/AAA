{
  "nbformat": 4,
  "nbformat_minor": 0,
  "metadata": {
    "colab": {
      "name": "adding a day to datetime .ipynb",
      "provenance": [],
      "authorship_tag": "ABX9TyM9ghFIwflLIaCxSIyxhGgu",
      "include_colab_link": true
    },
    "kernelspec": {
      "name": "python3",
      "display_name": "Python 3"
    },
    "language_info": {
      "name": "python"
    }
  },
  "cells": [
    {
      "cell_type": "markdown",
      "metadata": {
        "id": "view-in-github",
        "colab_type": "text"
      },
      "source": [
        "<a href=\"https://colab.research.google.com/github/aznagyouness/AAA/blob/main/adding_a_day_to_datetime_.ipynb\" target=\"_parent\"><img src=\"https://colab.research.google.com/assets/colab-badge.svg\" alt=\"Open In Colab\"/></a>"
      ]
    },
    {
      "cell_type": "code",
      "execution_count": 3,
      "metadata": {
        "colab": {
          "base_uri": "https://localhost:8080/"
        },
        "id": "07ZZRJdTWDAR",
        "outputId": "c20a457f-dfcc-49cf-f746-75758c06653f"
      },
      "outputs": [
        {
          "output_type": "stream",
          "name": "stdout",
          "text": [
            "<class 'pandas.core.frame.DataFrame'>\n",
            "RangeIndex: 2 entries, 0 to 1\n",
            "Data columns (total 1 columns):\n",
            " #   Column  Non-Null Count  Dtype         \n",
            "---  ------  --------------  -----         \n",
            " 0   0       2 non-null      datetime64[ns]\n",
            "dtypes: datetime64[ns](1)\n",
            "memory usage: 144.0 bytes\n",
            "          0          1          2          3          4          5   \\\n",
            "0 2022-03-18 2022-03-25 2022-04-01 2022-04-08 2022-04-15 2022-04-22   \n",
            "1 2022-03-24 2022-03-31 2022-04-07 2022-04-14 2022-04-21 2022-04-28   \n",
            "\n",
            "          6          7          8          9          10  \n",
            "0 2022-04-29 2022-05-06 2022-05-13 2022-05-20 2022-05-27  \n",
            "1 2022-05-05 2022-05-12 2022-05-19 2022-05-26 2022-06-02  \n",
            "0    3\n",
            "1    3\n",
            "Name: 0, dtype: int64\n",
            "Empty DataFrame\n",
            "Columns: []\n",
            "Index: [0, 1]\n",
            "the index are :  RangeIndex(start=0, stop=2, step=1)\n",
            "   0   1   2   3   4   5   6   7   8   9   10\n",
            "0  18  25   1   8  15  22  29   6  13  20  27\n",
            "1  24  31   7  14  21  28   5  12  19  26   2\n",
            "['18 au 24 mars', '25 au 31 mars', '1 au 7 av', '8 au 14 av', '15 au 21 av', '22 au 28 av', '29 av au 5 mai', '6 au 12 mai', '13 au 19 mai', '20 au 26 mai', '27 mai au 2 juin']\n",
            "[['AZERTY=SI(W588=0; ;W588)', 'AZERTY=SI(X588=0; ;X588)', 'AZERTY=SI(Y588=0; ;Y588)'], ['AZERTY=SI(W594=0; ;W594)', 'AZERTY=SI(X594=0; ;X594)', 'AZERTY=SI(Y594=0; ;Y594)'], ['AZERTY=SI(W600=0; ;W600)', 'AZERTY=SI(X600=0; ;X600)', 'AZERTY=SI(Y600=0; ;Y600)'], ['AZERTY=SI(W606=0; ;W606)', 'AZERTY=SI(X606=0; ;X606)', 'AZERTY=SI(Y606=0; ;Y606)'], ['AZERTY=SI(W612=0; ;W612)', 'AZERTY=SI(X612=0; ;X612)', 'AZERTY=SI(Y612=0; ;Y612)'], ['AZERTY=SI(W618=0; ;W618)', 'AZERTY=SI(X618=0; ;X618)', 'AZERTY=SI(Y618=0; ;Y618)'], ['AZERTY=SI(W624=0; ;W624)', 'AZERTY=SI(X624=0; ;X624)', 'AZERTY=SI(Y624=0; ;Y624)'], ['AZERTY=SI(W630=0; ;W630)', 'AZERTY=SI(X630=0; ;X630)', 'AZERTY=SI(Y630=0; ;Y630)'], ['AZERTY=SI(W636=0; ;W636)', 'AZERTY=SI(X636=0; ;X636)', 'AZERTY=SI(Y636=0; ;Y636)'], ['AZERTY=SI(W642=0; ;W642)', 'AZERTY=SI(X642=0; ;X642)', 'AZERTY=SI(Y642=0; ;Y642)'], ['AZERTY=SI(W648=0; ;W648)', 'AZERTY=SI(X648=0; ;X648)', 'AZERTY=SI(Y648=0; ;Y648)']]\n"
          ]
        }
      ],
      "source": [
        "import pandas as pd\n",
        "import numpy as np\n",
        "def add_hebdo_day(day_start, day_end, n_formulla):\n",
        "  \"\"\"\n",
        "  this function give you :\n",
        "  - interval date of week\n",
        "  - formulla related of that interval\n",
        "  - type(day_start and day_end) = string\n",
        "  \"\"\"\n",
        "  df = pd.DataFrame([[day_start], [day_end]])\n",
        "  #import datetime as dt\n",
        "\n",
        "  df[0]= pd.to_datetime(df[0])\n",
        "\n",
        "  df.info()\n",
        "\n",
        "  n=10\n",
        "  L = list(range(1,n+1))\n",
        "  x=[]\n",
        "\n",
        "  dic = {1:\"jan\",\n",
        "        2:\"fev\",\n",
        "        3:\"mars\",\n",
        "        4:\"av\",\n",
        "        5:\"mai\",\n",
        "        6:\"juin\",\n",
        "        7:\"jui\",\n",
        "        8:\"aout\",\n",
        "        9:\"sep\",\n",
        "        10:\"oct\",\n",
        "        11:\"nov\",\n",
        "        12:\"dec\"\n",
        "        }\n",
        "  for i in L:\n",
        "    df[i] = df[i-1]+pd.DateOffset(days=7)\n",
        "\n",
        "  m = pd.DataFrame([ [], [] ]) #Empty DataFrame\n",
        "  d = pd.DataFrame([ [], [] ]) #Empty DataFrame\n",
        "  print(df.head())\n",
        "  print(df[0].dt.month) # dt.month work only with series \n",
        "  print(d.head())\n",
        "\n",
        "  #d[i] = df[i].dt.month_name().str[:3] \n",
        "  print('the index are : ',df.index)\n",
        "\n",
        "  for i in range(len(df.columns)):\n",
        "    m[i] = df[i].dt.month\n",
        "    d[i] = df[i].dt.day\n",
        "\n",
        "    if m[i][0]== m[i][1]:\n",
        "      x.append(str(d[i][0])+ \" au \" + str(d[i][1]) +\" \"+ dic[m[i][1]] )\n",
        "    else:\n",
        "      x.append(str(d[i][0])+\" \"+ dic[m[i][0]] +\" au \" + str(d[i][1]) +\" \"+ dic[m[i][1]] )\n",
        "  print(d.head())\n",
        "  print(x)\n",
        "\n",
        "  y = []\n",
        "  #=SI(W582=0;\"\";W582) #=SI(X582=0;\"\";X582)  #=SI(Y582=0;0;Y582)\n",
        "  n = n_formulla\n",
        "  for i in range(len(df.columns)):\n",
        "    y.append([\"AZERTY=SI(W\" + str(n) + \"=0;\" + \"0;W\" + str(n) + \")\", \"AZERTY=SI(X\" + str(n) + \"=0;\" + \"0;X\" + str(n) + \")\", \"AZERTY=SI(Y\" + str(n) + \"=0;\" + \"0;Y\" + str(n) + \")\"])\n",
        "    n += 6\n",
        "\n",
        "  print(y)\n",
        "  x = np.array(x).reshape(len(x))\n",
        "  x = pd.DataFrame(x)\n",
        "  y = np.array(y).reshape(len(y),3)\n",
        "  y = pd.DataFrame(y)\n",
        "  w = pd.concat([x,y], axis=1)\n",
        "  return w\n",
        "\n",
        "w = add_hebdo_day(\"25/03/2022\", \"31/03/2022\", 588)  \n",
        "w.to_excel(\"C:\\\\Users\\\\Admin\\\\Desktop\\\\add_day.xlsx\")\n",
        "\n"
      ]
    }
  ]
}