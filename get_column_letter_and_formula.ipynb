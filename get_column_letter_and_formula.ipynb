{
  "nbformat": 4,
  "nbformat_minor": 0,
  "metadata": {
    "colab": {
      "name": "get column letter and formula.ipynb",
      "provenance": [],
      "authorship_tag": "ABX9TyM8F0pUc5QccyiPZvTtrKoR",
      "include_colab_link": true
    },
    "kernelspec": {
      "name": "python3",
      "display_name": "Python 3"
    },
    "language_info": {
      "name": "python"
    }
  },
  "cells": [
    {
      "cell_type": "markdown",
      "metadata": {
        "id": "view-in-github",
        "colab_type": "text"
      },
      "source": [
        "<a href=\"https://colab.research.google.com/github/aznagyouness/AAA/blob/main/get_column_letter_and_formula.ipynb\" target=\"_parent\"><img src=\"https://colab.research.google.com/assets/colab-badge.svg\" alt=\"Open In Colab\"/></a>"
      ]
    },
    {
      "cell_type": "code",
      "execution_count": 14,
      "metadata": {
        "colab": {
          "base_uri": "https://localhost:8080/"
        },
        "id": "Y8CARlO_PoQk",
        "outputId": "75b91ac3-144e-428e-8cd5-c0ad427ea25a"
      },
      "outputs": [
        {
          "output_type": "stream",
          "name": "stdout",
          "text": [
            "A\n",
            "{'A': 1, 'B': 2, 'C': 3, 'D': 4, 'E': 5, 'F': 6, 'G': 7, 'H': 8, 'I': 9, 'J': 10, 'K': 11, 'L': 12, 'M': 13, 'N': 14, 'O': 15, 'P': 16, 'Q': 17, 'R': 18, 'S': 19, 'T': 20, 'U': 21, 'V': 22, 'W': 23, 'X': 24, 'Y': 25, 'Z': 26, 'AA': 27}\n",
            "MOULAY RACHID = O73 + O85 + P97 + P109\n",
            "sidi othmane = O25 + O37 + P49 + P61\n"
          ]
        }
      ],
      "source": [
        "from openpyxl.utils import get_column_letter\n",
        "#print(get_column_letter(1))\n",
        "t = {}\n",
        "\n",
        "for i in range(1,28):\n",
        "  #print(\"the carracter that corespond to \",i, \"  is : \",get_column_letter(i))\n",
        "  t[get_column_letter(i)]=i\n",
        "print(t)\n",
        "\n",
        "def find_value(a):\n",
        "  #print(\"the value of that letter is : \",t[a])\n",
        "  return t[a]\n",
        "\n",
        "\n",
        "b=find_value(\"O\")\n",
        "c1=get_column_letter(b)\n",
        "c2=get_column_letter(b+1)\n",
        "\n",
        "a=73\n",
        "print(\"MOULAY RACHID\",'=',c1+str(a),\"+\",c1+str(a+12),\"+\",c2+str(a+24),\"+\",c2+str(a+36))\n",
        "a = 25\n",
        "print(\"sidi othmane\",'=',c1+str(a),\"+\",c1+str(a+12),\"+\",c2+str(a+24),\"+\",c2+str(a+36))"
      ]
    }
  ]
}